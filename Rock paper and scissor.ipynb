{
 "cells": [
  {
   "cell_type": "code",
   "execution_count": 22,
   "id": "cabd45ac-b3e7-4775-8354-942d0a0701a2",
   "metadata": {},
   "outputs": [
    {
     "name": "stdout",
     "output_type": "stream",
     "text": [
      "*****WELCOME TO ROCK PAPER SCISSOR GAME*****\n",
      "Choices are:\n",
      "1. Rock\n",
      "2. Paper\n",
      "3. Scissors\n"
     ]
    },
    {
     "name": "stdin",
     "output_type": "stream",
     "text": [
      "Enter your choice from 1-3:  1\n"
     ]
    },
    {
     "name": "stdout",
     "output_type": "stream",
     "text": [
      "Your choice is: Rock\n",
      "Now it is Computer's turn\n",
      "The Computer's choice is: Paper\n",
      "Paper wins\n",
      "Computer wins\n",
      "Scores are:\n",
      "Your score: 0\n",
      "Computer's score: 1\n",
      "Ties: 0\n"
     ]
    },
    {
     "name": "stdin",
     "output_type": "stream",
     "text": [
      "Do you want to play again? (yes or no):  yes\n",
      "Enter your choice from 1-3:  2\n"
     ]
    },
    {
     "name": "stdout",
     "output_type": "stream",
     "text": [
      "Your choice is: Paper\n",
      "Now it is Computer's turn\n",
      "The Computer's choice is: Scissors\n",
      "Scissors wins\n",
      "Computer wins\n",
      "Scores are:\n",
      "Your score: 0\n",
      "Computer's score: 2\n",
      "Ties: 0\n"
     ]
    },
    {
     "name": "stdin",
     "output_type": "stream",
     "text": [
      "Do you want to play again? (yes or no):  yes\n",
      "Enter your choice from 1-3:  3\n"
     ]
    },
    {
     "name": "stdout",
     "output_type": "stream",
     "text": [
      "Your choice is: Scissors\n",
      "Now it is Computer's turn\n",
      "The Computer's choice is: Scissors\n",
      "It's a Tie\n",
      "Scores are:\n",
      "Your score: 0\n",
      "Computer's score: 2\n",
      "Ties: 1\n"
     ]
    },
    {
     "name": "stdin",
     "output_type": "stream",
     "text": [
      "Do you want to play again? (yes or no):  yes\n",
      "Enter your choice from 1-3:  4\n",
      "Enter a valid input (1-3):  2\n"
     ]
    },
    {
     "name": "stdout",
     "output_type": "stream",
     "text": [
      "Your choice is: Paper\n",
      "Now it is Computer's turn\n",
      "The Computer's choice is: Paper\n",
      "It's a Tie\n",
      "Scores are:\n",
      "Your score: 0\n",
      "Computer's score: 2\n",
      "Ties: 2\n"
     ]
    },
    {
     "name": "stdin",
     "output_type": "stream",
     "text": [
      "Do you want to play again? (yes or no):  no\n"
     ]
    },
    {
     "name": "stdout",
     "output_type": "stream",
     "text": [
      "Thanks for playing!\n"
     ]
    }
   ],
   "source": [
    "import random\n",
    "\n",
    "print(\"*****WELCOME TO ROCK PAPER SCISSOR GAME*****\")\n",
    "user_score=0\n",
    "comp_score =0\n",
    "ties=0\n",
    "\n",
    "print(\"\"\"Choices are:\n",
    "1. Rock\n",
    "2. Paper\n",
    "3. Scissors\"\"\")\n",
    "\n",
    "while True:\n",
    "    choice=int(input(\"Enter your choice from 1-3: \"))\n",
    "    \n",
    "    \n",
    "    while choice > 3 or choice < 1:\n",
    "        choice= int(input(\"Enter a valid input (1-3): \"))\n",
    "\n",
    "    if choice == 1:\n",
    "        user_choice=\"Rock\"\n",
    "    elif choice == 2:\n",
    "        user_choice = \"Paper\"\n",
    "    else:\n",
    "        user_choice=\"Scissors\"\n",
    "\n",
    "    print(\"Your choice is:\", user_choice)\n",
    "    print(\"Now it is Computer's turn\")\n",
    "\n",
    "    \n",
    "    computer = random.randint(1, 3)\n",
    "\n",
    "    if computer==1:\n",
    "        comp_choice=\"Rock\"\n",
    "    elif computer== 2:\n",
    "        comp_choice=\"Paper\"\n",
    "    else:\n",
    "        comp_choice=\"Scissors\"\n",
    "\n",
    "    print(\"The Computer's choice is:\",comp_choice)\n",
    "\n",
    "    \n",
    "    if (user_choice==\"Paper\"and comp_choice ==\"Rock\")or (user_choice==\"Rock\" and comp_choice==\"Paper\"):\n",
    "        print(\"Paper wins\")\n",
    "        result = \"Paper\"\n",
    "    elif (user_choice==\"Scissors\"and comp_choice==\"Rock\")or (user_choice==\"Rock\" and comp_choice == \"Scissors\"):\n",
    "        print(\"Rock wins\")\n",
    "        result =\"Rock\"\n",
    "    elif user_choice== comp_choice:\n",
    "        print(\"It's a Tie\")\n",
    "        result=\"Tie\"\n",
    "    else:\n",
    "        print(\"Scissors wins\")\n",
    "        result=\"Scissors\"\n",
    "\n",
    "    \n",
    "    if result==\"Tie\":\n",
    "        ties += 1\n",
    "    elif result==user_choice:\n",
    "        user_score+= 1\n",
    "    else:\n",
    "        print(\"Computer wins\")\n",
    "        comp_score+= 1\n",
    "\n",
    "    \n",
    "    print(\"Scores are:\")\n",
    "    print(\"Your score:\", user_score)\n",
    "    print(\"Computer's score:\", comp_score)\n",
    "    print(\"Ties:\", ties)\n",
    "\n",
    "    \n",
    "    play_again=input(\"Do you want to play again? (yes or no): \").lower()\n",
    "    if play_again !='yes':\n",
    "        print(\"Thanks for playing!\")\n",
    "        break\n"
   ]
  },
  {
   "cell_type": "code",
   "execution_count": null,
   "id": "55b7aaca-d3b3-41d5-8c66-e8b752b3523b",
   "metadata": {},
   "outputs": [],
   "source": []
  }
 ],
 "metadata": {
  "kernelspec": {
   "display_name": "Python 3 (ipykernel)",
   "language": "python",
   "name": "python3"
  },
  "language_info": {
   "codemirror_mode": {
    "name": "ipython",
    "version": 3
   },
   "file_extension": ".py",
   "mimetype": "text/x-python",
   "name": "python",
   "nbconvert_exporter": "python",
   "pygments_lexer": "ipython3",
   "version": "3.12.3"
  }
 },
 "nbformat": 4,
 "nbformat_minor": 5
}
