{
 "cells": [
  {
   "cell_type": "code",
   "execution_count": 11,
   "id": "049ab44d-d8d5-4a62-96c1-448e5cd350dd",
   "metadata": {},
   "outputs": [
    {
     "name": "stdout",
     "output_type": "stream",
     "text": [
      "*****Contact Book*****\n"
     ]
    },
    {
     "name": "stdin",
     "output_type": "stream",
     "text": [
      "1.Add New Contact\n",
      "2.View Contact List\n",
      "3.Search Contact\n",
      "4.Update Contact\n",
      "5.Delete Contact\n",
      "6.Exit\n",
      "Enter your choice: 1\n",
      "Enter the contact name: nithin\n",
      "Enter the Phone Number: 7306056521\n",
      "Enter the Email Address: nithin@gmail.com\n",
      "Enter the Address: bhshghw\n",
      "1.Add New Contact\n",
      "2.View Contact List\n",
      "3.Search Contact\n",
      "4.Update Contact\n",
      "5.Delete Contact\n",
      "6.Exit\n",
      "Enter your choice: 2\n"
     ]
    },
    {
     "name": "stdout",
     "output_type": "stream",
     "text": [
      "Name\t\tPhone Number\n",
      "nithin\t\t7306056521\n"
     ]
    },
    {
     "name": "stdin",
     "output_type": "stream",
     "text": [
      "1.Add New Contact\n",
      "2.View Contact List\n",
      "3.Search Contact\n",
      "4.Update Contact\n",
      "5.Delete Contact\n",
      "6.Exit\n",
      "Enter your choice: 3\n",
      "Enter the contact name: nithin\n"
     ]
    },
    {
     "name": "stdout",
     "output_type": "stream",
     "text": [
      "nithin's contact number is 7306056521\n",
      "Email Address: nithin@gmail.com\n",
      "Address: bhshghw\n"
     ]
    },
    {
     "name": "stdin",
     "output_type": "stream",
     "text": [
      "1.Add New Contact\n",
      "2.View Contact List\n",
      "3.Search Contact\n",
      "4.Update Contact\n",
      "5.Delete Contact\n",
      "6.Exit\n",
      "Enter your choice: 4\n",
      "Enter the contact to update: nithin\n",
      "Enter the new phone number: 7878878787\n",
      "Enter the new email address: njhuhj@gmail.com\n",
      "Enter the new address: hgedehd\n"
     ]
    },
    {
     "name": "stdout",
     "output_type": "stream",
     "text": [
      "Contact updated\n"
     ]
    },
    {
     "name": "stdin",
     "output_type": "stream",
     "text": [
      "1.Add New Contact\n",
      "2.View Contact List\n",
      "3.Search Contact\n",
      "4.Update Contact\n",
      "5.Delete Contact\n",
      "6.Exit\n",
      "Enter your choice: 5\n",
      "Enter the contact to be deleted: nithin\n",
      "Do you want to delete this contact (y/n)? y\n"
     ]
    },
    {
     "name": "stdout",
     "output_type": "stream",
     "text": [
      "Contact deleted\n"
     ]
    },
    {
     "name": "stdin",
     "output_type": "stream",
     "text": [
      "1.Add New Contact\n",
      "2.View Contact List\n",
      "3.Search Contact\n",
      "4.Update Contact\n",
      "5.Delete Contact\n",
      "6.Exit\n",
      "Enter your choice: 6\n"
     ]
    }
   ],
   "source": [
    "contact={}\n",
    "print(\"*****Contact Book*****\")\n",
    "def display_contact():\n",
    "    print(\"Name\\t\\tPhone Number\")\n",
    "    for key in contact:\n",
    "        print(\"{}\\t\\t{}\".format(key, contact[key]['phone']))\n",
    "\n",
    "while True:\n",
    "    choice = int(input(\"1.Add New Contact\\n2.View Contact List\\n3.Search Contact\\n4.Update Contact\\n5.Delete Contact\\n6.Exit\\nEnter your choice:\"))\n",
    "    \n",
    "    if choice==1:\n",
    "        name=input(\"Enter the contact name:\")\n",
    "        ph_no=input(\"Enter the Phone Number:\")\n",
    "        email=input(\"Enter the Email Address:\")\n",
    "        address=input(\"Enter the Address:\")\n",
    "        contact[name]={'phone':ph_no,'email': email,'address':address}\n",
    "        \n",
    "    elif choice==2:\n",
    "        if not contact:\n",
    "            print(\"Empty contact book\")\n",
    "        else:\n",
    "            display_contact()\n",
    "                \n",
    "    elif choice==3:\n",
    "        search_contact=input(\"Enter the contact name:\")\n",
    "        if search_name in contact:\n",
    "            print(f\"{search_contact}'s contact number is {contact[search_contact]['phone']}\")\n",
    "            print(f\"Email Address: {contact[search_contact]['email']}\")\n",
    "            print(f\"Address: {contact[search_contact]['address']}\")\n",
    "        else:\n",
    "            print(\"Name is not found in Contact book\")\n",
    "            \n",
    "    elif choice==4:\n",
    "        update_contact=input(\"Enter the contact to update:\")\n",
    "        if update_contact in contact:\n",
    "            ph_no=input(\"Enter the new phone number:\")\n",
    "            email=input(\"Enter the new email address:\")\n",
    "            address=input(\"Enter the new address:\")\n",
    "            contact[update_contact] = {'phone':ph_no,'email': email,'address':address}\n",
    "            print(\"Contact updated\")\n",
    "        else:\n",
    "            print(\"Name is not found in the contact book\")\n",
    "            \n",
    "    elif choice==5:\n",
    "        \n",
    "        del_contact=input(\"Enter the contact to be deleted:\")\n",
    "        if del_contact in contact:\n",
    "            confirm=input(\"Do you want to delete this contact (y/n)?\")\n",
    "            if confirm.lower()=='y':\n",
    "                contact.pop(del_contact)\n",
    "                print(\"Contact deleted\")\n",
    "            else:\n",
    "                print(\"Deletion canceled\")\n",
    "        else:\n",
    "            print(\"Name is not found in contact book\")\n",
    "            \n",
    "    elif choice==6:\n",
    "        break\n",
    "    \n",
    "    else:\n",
    "        print(\"Invalid choice.\")\n"
   ]
  },
  {
   "cell_type": "code",
   "execution_count": null,
   "id": "e17ab879-345e-4bee-9671-c7172d21a514",
   "metadata": {},
   "outputs": [],
   "source": []
  }
 ],
 "metadata": {
  "kernelspec": {
   "display_name": "Python 3 (ipykernel)",
   "language": "python",
   "name": "python3"
  },
  "language_info": {
   "codemirror_mode": {
    "name": "ipython",
    "version": 3
   },
   "file_extension": ".py",
   "mimetype": "text/x-python",
   "name": "python",
   "nbconvert_exporter": "python",
   "pygments_lexer": "ipython3",
   "version": "3.12.3"
  }
 },
 "nbformat": 4,
 "nbformat_minor": 5
}
