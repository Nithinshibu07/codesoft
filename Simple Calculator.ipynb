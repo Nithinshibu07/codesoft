{
 "cells": [
  {
   "cell_type": "code",
   "execution_count": 20,
   "id": "a8b54f20-6767-4a15-be81-caf85d3899b9",
   "metadata": {},
   "outputs": [
    {
     "name": "stdout",
     "output_type": "stream",
     "text": [
      "******SIMPLE CALCULATOR******\n"
     ]
    },
    {
     "name": "stdin",
     "output_type": "stream",
     "text": [
      "Enter your First Number:  10\n",
      "Enter your Second Number:  20\n"
     ]
    },
    {
     "name": "stdout",
     "output_type": "stream",
     "text": [
      "press 1 for Addition\n",
      "press 2 for Subtraction\n",
      "press 3 for Multiplication\n",
      "press 4 for Division\n"
     ]
    },
    {
     "name": "stdin",
     "output_type": "stream",
     "text": [
      "Enter your Choice from 1-4:  4\n"
     ]
    },
    {
     "name": "stdout",
     "output_type": "stream",
     "text": [
      "The Division of given two numbers is: 0.5\n"
     ]
    }
   ],
   "source": [
    "print(\"******SIMPLE CALCULATOR******\")\n",
    "\n",
    "num1=float(input(\"Enter your First Number: \"))\n",
    "num2=float(input(\"Enter your Second Number: \"))\n",
    "\n",
    "print(\"press 1 for Addition\\npress 2 for Subtraction\\npress 3 for Multiplication\\npress 4 for Division\")\n",
    "\n",
    "choice=int(input(\"Enter your Choice from 1-4: \"))\n",
    "if choice==1:\n",
    "           print(\"The Addition of given two numbers is:\",num1+num2)\n",
    "elif  choice==2:\n",
    "           print(\"The Subtraction of given two numbers is:\",num1-num2)\n",
    "elif choice==3:\n",
    "           print(\"The Multiplication of given two numbers is:\",num1*num2)\n",
    "elif choice==4:\n",
    "   if num2!=0:\n",
    "       print(\"The Division of given two numbers is:\",num1/num2)\n",
    "   else:\n",
    "       print (\"error... Division by zero\")\n",
    "else:  \n",
    "        print(\"Invalid choice\")\n",
    "           "
   ]
  },
  {
   "cell_type": "code",
   "execution_count": null,
   "id": "acf71ad3-24c9-4e67-8ac7-dd4ee3d4d8d4",
   "metadata": {},
   "outputs": [],
   "source": []
  },
  {
   "cell_type": "code",
   "execution_count": null,
   "id": "78b2d024-a2d6-4a43-a381-38699718a3e0",
   "metadata": {},
   "outputs": [],
   "source": []
  }
 ],
 "metadata": {
  "kernelspec": {
   "display_name": "Python 3 (ipykernel)",
   "language": "python",
   "name": "python3"
  },
  "language_info": {
   "codemirror_mode": {
    "name": "ipython",
    "version": 3
   },
   "file_extension": ".py",
   "mimetype": "text/x-python",
   "name": "python",
   "nbconvert_exporter": "python",
   "pygments_lexer": "ipython3",
   "version": "3.12.3"
  }
 },
 "nbformat": 4,
 "nbformat_minor": 5
}
