{
 "cells": [
  {
   "cell_type": "code",
   "execution_count": null,
   "id": "f571d74c-72ed-4eb8-a8aa-5c13434e34b8",
   "metadata": {},
   "outputs": [
    {
     "name": "stdout",
     "output_type": "stream",
     "text": [
      "WELCOME TO THE TO-DO LIST APPLICATION\n"
     ]
    },
    {
     "name": "stdin",
     "output_type": "stream",
     "text": [
      "Enter the total number of tasks that you want to add:  3\n",
      "Enter task 1: hsbb\n"
     ]
    },
    {
     "name": "stdout",
     "output_type": "stream",
     "text": [
      "Today's Tasks are: \n",
      "['hsbb']\n"
     ]
    },
    {
     "name": "stdin",
     "output_type": "stream",
     "text": [
      "Enter task 2: hbdheb\n"
     ]
    },
    {
     "name": "stdout",
     "output_type": "stream",
     "text": [
      "Today's Tasks are: \n",
      "['hsbb', 'hbdheb']\n"
     ]
    },
    {
     "name": "stdin",
     "output_type": "stream",
     "text": [
      "Enter task 3: bhdeb\n"
     ]
    },
    {
     "name": "stdout",
     "output_type": "stream",
     "text": [
      "Today's Tasks are: \n",
      "['hsbb', 'hbdheb', 'bhdeb']\n"
     ]
    },
    {
     "name": "stdin",
     "output_type": "stream",
     "text": [
      "ENTER 1 - ADD\n",
      "2 - UPDATE\n",
      "3 - TRACK\n",
      "4 - EXIT\n",
      "Choose an Option:  2\n",
      "Enter the task name you want to update:  hsbb\n",
      "Enter the new task:  hurfru\n"
     ]
    },
    {
     "name": "stdout",
     "output_type": "stream",
     "text": [
      "Task 'hsbb' has been updated to 'hurfru'.\n"
     ]
    },
    {
     "name": "stdin",
     "output_type": "stream",
     "text": [
      "ENTER 1 - ADD\n",
      "2 - UPDATE\n",
      "3 - TRACK\n",
      "4 - EXIT\n",
      "Choose an Option:  3\n"
     ]
    },
    {
     "name": "stdout",
     "output_type": "stream",
     "text": [
      "Current Task List: ['hurfru', 'hbdheb', 'bhdeb']\n"
     ]
    },
    {
     "name": "stdin",
     "output_type": "stream",
     "text": [
      "ENTER 1 - ADD\n",
      "2 - UPDATE\n",
      "3 - TRACK\n",
      "4 - EXIT\n",
      "Choose an Option:  2\n",
      "Enter the task name you want to update:  bhbhbj\n"
     ]
    },
    {
     "name": "stdout",
     "output_type": "stream",
     "text": [
      "Task 'bhbhbj' not found.\n"
     ]
    }
   ],
   "source": [
    "def task():\n",
    "    tasks = []\n",
    "    print(\"WELCOME TO THE TO-DO LIST APPLICATION\")\n",
    "\n",
    "    total_task = int(input(\"Enter the total number of tasks that you want to add: \"))\n",
    "    for i in range(1, total_task+1):\n",
    "        task_name = input(f\"Enter task {i}:\")\n",
    "        tasks.append(task_name)\n",
    "        print(f\"Today's Tasks are: \\n{tasks}\")\n",
    "\n",
    "    while True:\n",
    "        operation = int(input(\"ENTER 1 - ADD\\n2 - UPDATE\\n3 - TRACK\\n4 - EXIT\\nChoose an Option: \"))\n",
    "        \n",
    "        if operation == 1:\n",
    "            add = input(\"Enter the task you want to add: \")\n",
    "            tasks.append(add)\n",
    "            print(f\"Task '{add}' has been successfully added.\")\n",
    "        \n",
    "        elif operation == 2:\n",
    "            updated_value = input(\"Enter the task name you want to update: \")\n",
    "            if updated_value in tasks:\n",
    "                up = input(\"Enter the new task: \")\n",
    "                ind = tasks.index(updated_value)\n",
    "                tasks[ind] = up\n",
    "                print(f\"Task '{updated_value}' has been updated to '{up}'.\")\n",
    "            else:\n",
    "                print(f\"Task '{updated_value}' not found.\")\n",
    "        \n",
    "        elif operation == 3:\n",
    "            print(f\"Current Task List: {tasks}\")\n",
    "        \n",
    "        elif operation == 4:\n",
    "            print(\"Exiting the application...\")\n",
    "            break\n",
    "        \n",
    "        else:\n",
    "            print(\"Invalid option! Please choose a valid option.\")\n",
    "\n",
    "task()\n",
    "\n"
   ]
  },
  {
   "cell_type": "code",
   "execution_count": null,
   "id": "b2eb77d4-1cd3-4f83-bf20-db8a4ca174ad",
   "metadata": {},
   "outputs": [],
   "source": []
  }
 ],
 "metadata": {
  "kernelspec": {
   "display_name": "Python 3 (ipykernel)",
   "language": "python",
   "name": "python3"
  },
  "language_info": {
   "codemirror_mode": {
    "name": "ipython",
    "version": 3
   },
   "file_extension": ".py",
   "mimetype": "text/x-python",
   "name": "python",
   "nbconvert_exporter": "python",
   "pygments_lexer": "ipython3",
   "version": "3.12.3"
  }
 },
 "nbformat": 4,
 "nbformat_minor": 5
}
