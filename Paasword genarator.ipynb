{
 "cells": [
  {
   "cell_type": "code",
   "execution_count": null,
   "id": "1385668d-9e96-428f-b7ae-52def62d70fc",
   "metadata": {},
   "outputs": [],
   "source": []
  },
  {
   "cell_type": "code",
   "execution_count": 12,
   "id": "01545932-10b2-459d-82ed-77885e3a38c3",
   "metadata": {},
   "outputs": [
    {
     "name": "stdin",
     "output_type": "stream",
     "text": [
      "Enter Password Length\n",
      " 20\n"
     ]
    },
    {
     "name": "stdout",
     "output_type": "stream",
     "text": [
      "Your Password is:\n",
      "u,N`:*A_G.+{Xktym&7n\n"
     ]
    }
   ],
   "source": [
    "import string\n",
    "import random\n",
    "\n",
    "l1=string.ascii_lowercase\n",
    "u1=string.ascii_uppercase\n",
    "d1=string.digits\n",
    "p1=string.punctuation\n",
    "plen=int(input(\"Enter Password Length\\n\"))\n",
    "p=[]\n",
    "p.extend(l1)\n",
    "p.extend(u1)\n",
    "p.extend(d1)\n",
    "p.extend(p1)\n",
    "random.shuffle(p) \n",
    "print(\"Your Password is:\")\n",
    "print(\"\".join(p[0:plen]))\n",
    "\n",
    "\n",
    "\n"
   ]
  },
  {
   "cell_type": "code",
   "execution_count": null,
   "id": "9d5a7ee8-1dbb-4987-ac93-6d6bd4090211",
   "metadata": {},
   "outputs": [],
   "source": []
  }
 ],
 "metadata": {
  "kernelspec": {
   "display_name": "Python 3 (ipykernel)",
   "language": "python",
   "name": "python3"
  },
  "language_info": {
   "codemirror_mode": {
    "name": "ipython",
    "version": 3
   },
   "file_extension": ".py",
   "mimetype": "text/x-python",
   "name": "python",
   "nbconvert_exporter": "python",
   "pygments_lexer": "ipython3",
   "version": "3.12.3"
  }
 },
 "nbformat": 4,
 "nbformat_minor": 5
}
